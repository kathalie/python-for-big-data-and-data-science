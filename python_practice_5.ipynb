{
 "metadata": {
  "colab": {
   "name": "",
   "version": ""
  },
  "kernelspec": {
   "name": "python3",
   "display_name": "Python 3",
   "language": "python"
  },
  "language_info": {
   "name": "python",
   "version": "3.10.13",
   "mimetype": "text/x-python",
   "codemirror_mode": {
    "name": "ipython",
    "version": 3
   },
   "pygments_lexer": "ipython3",
   "nbconvert_exporter": "python",
   "file_extension": ".py"
  },
  "kaggle": {
   "accelerator": "none",
   "dataSources": [],
   "dockerImageVersionId": 30664,
   "isInternetEnabled": true,
   "language": "python",
   "sourceType": "notebook",
   "isGpuEnabled": false
  }
 },
 "nbformat_minor": 4,
 "nbformat": 4,
 "cells": [
  {
   "cell_type": "markdown",
   "source": [
    "# I. OOP"
   ],
   "metadata": {
    "id": "5qV_sehzFCTp"
   }
  },
  {
   "cell_type": "markdown",
   "source": [
    "1. (6б). Створіть клас Animal, додайте три атрибути, один з яких має значення за замовчуванням та два методи на свій розсуд."
   ],
   "metadata": {
    "id": "tx_U_hOALyfg"
   }
  },
  {
   "cell_type": "code",
   "source": [
    "class Animal:\n",
    "    def __init__(self, species, age, happinessLevel = 0):\n",
    "      self.species = species\n",
    "      self.age = age\n",
    "      self.happinessLevel = happinessLevel\n",
    "\n",
    "    def liveOneMoreYear(self):\n",
    "      self.year += 1\n",
    "\n",
    "    def play(self):\n",
    "      self.happinessLevel += 1"
   ],
   "metadata": {
    "executionInfo": {
     "elapsed": 374,
     "status": "ok",
     "timestamp": 1709158595577,
     "user": {
      "displayName": "Kate Verkhogliad",
      "userId": "06436240930562847090"
     },
     "user_tz": -60
    },
    "id": "-Vf895KaL88N",
    "execution": {
     "iopub.status.busy": "2024-02-29T11:44:11.001954Z",
     "iopub.execute_input": "2024-02-29T11:44:11.002618Z",
     "iopub.status.idle": "2024-02-29T11:44:11.039350Z",
     "shell.execute_reply.started": "2024-02-29T11:44:11.002587Z",
     "shell.execute_reply": "2024-02-29T11:44:11.038392Z"
    },
    "trusted": true
   },
   "execution_count": 1,
   "outputs": []
  },
  {
   "cell_type": "markdown",
   "source": [
    "2. (2б). Створіть два обʼєкти цього класу, де один з обʼєктів створюється із дефолтним значенням атрибуту. На одному обʼєкті отримайте значення його атрибуту, а на іншому викличте один з його методів."
   ],
   "metadata": {
    "id": "X_UlOMB0L93w"
   }
  },
  {
   "cell_type": "code",
   "source": [
    "dog = Animal(\"dog\", 2, 5)\n",
    "cat = Animal(\"cat\", 1)\n",
    "\n",
    "cat.play()\n",
    "\n",
    "dog.happinessLevel, cat.happinessLevel"
   ],
   "metadata": {
    "colab": {
     "base_uri": "https://localhost:8080/"
    },
    "executionInfo": {
     "elapsed": 367,
     "status": "ok",
     "timestamp": 1709158657278,
     "user": {
      "displayName": "Kate Verkhogliad",
      "userId": "06436240930562847090"
     },
     "user_tz": -60
    },
    "id": "7gBu0ESOMCpG",
    "outputId": "7dc8e1db-a64d-46a5-b1f2-f0f34e9e657b",
    "execution": {
     "iopub.status.busy": "2024-02-29T11:44:45.978608Z",
     "iopub.execute_input": "2024-02-29T11:44:45.978977Z",
     "iopub.status.idle": "2024-02-29T11:44:45.987990Z",
     "shell.execute_reply.started": "2024-02-29T11:44:45.978948Z",
     "shell.execute_reply": "2024-02-29T11:44:45.986852Z"
    },
    "trusted": true
   },
   "execution_count": 2,
   "outputs": [
    {
     "execution_count": 2,
     "output_type": "execute_result",
     "data": {
      "text/plain": "(5, 1)"
     },
     "metadata": {}
    }
   ]
  },
  {
   "cell_type": "markdown",
   "source": [
    "3. (5б). Створіть клас, де атрибути мають різні рівні\n",
    "доступу. Спробуйте отримати їхні значення та опишіть результати."
   ],
   "metadata": {
    "id": "HoqSCZt1MHn5"
   }
  },
  {
   "cell_type": "code",
   "source": [
    "class Vehicle:\n",
    "  def __init__(self, number_of_wheels, manufacturer):\n",
    "    self._number_of_wheels = number_of_wheels\n",
    "    self.manufacturer = manufacturer\n",
    "\n",
    "\n",
    "class Car(Vehicle):\n",
    "  def __init__(self, owner, manufacturer):\n",
    "    super().__init__(2, manufacturer)\n",
    "    self.__owner = owner\n",
    "\n",
    "  def has_even_number_of_wheels():\n",
    "    return super._number_of_wheels % 2 == 0\n",
    "\n",
    "  def print_owner(self):\n",
    "    print(self.__owner)\n",
    "\n",
    "\n",
    "car = Car(\"Kate\", \"Audi\")\n",
    "car.print_owner()\n",
    "print(car.manufacturer)\n",
    "print(car._number_of_wheels)\n",
    "print(car.__owner)"
   ],
   "metadata": {
    "colab": {
     "base_uri": "https://localhost:8080/",
     "height": 233
    },
    "executionInfo": {
     "elapsed": 366,
     "status": "error",
     "timestamp": 1709161227212,
     "user": {
      "displayName": "Kate Verkhogliad",
      "userId": "06436240930562847090"
     },
     "user_tz": -60
    },
    "id": "r9b3vJxBMSPV",
    "outputId": "51c28aee-21bb-400a-c009-a559c42c1fc4",
    "execution": {
     "iopub.status.busy": "2024-02-29T11:45:16.816323Z",
     "iopub.execute_input": "2024-02-29T11:45:16.817463Z",
     "iopub.status.idle": "2024-02-29T11:45:17.203987Z",
     "shell.execute_reply.started": "2024-02-29T11:45:16.817426Z",
     "shell.execute_reply": "2024-02-29T11:45:17.202605Z"
    },
    "trusted": true
   },
   "execution_count": 3,
   "outputs": [
    {
     "name": "stdout",
     "text": "Kate\nAudi\n2\n",
     "output_type": "stream"
    },
    {
     "traceback": [
      "\u001B[0;31m---------------------------------------------------------------------------\u001B[0m",
      "\u001B[0;31mAttributeError\u001B[0m                            Traceback (most recent call last)",
      "Cell \u001B[0;32mIn[3], line 23\u001B[0m\n\u001B[1;32m     21\u001B[0m \u001B[38;5;28mprint\u001B[39m(car\u001B[38;5;241m.\u001B[39mmanufacturer)\n\u001B[1;32m     22\u001B[0m \u001B[38;5;28mprint\u001B[39m(car\u001B[38;5;241m.\u001B[39m_number_of_wheels)\n\u001B[0;32m---> 23\u001B[0m \u001B[38;5;28mprint\u001B[39m(\u001B[43mcar\u001B[49m\u001B[38;5;241;43m.\u001B[39;49m\u001B[43m__owner\u001B[49m)\n",
      "\u001B[0;31mAttributeError\u001B[0m: 'Car' object has no attribute '__owner'"
     ],
     "ename": "AttributeError",
     "evalue": "'Car' object has no attribute '__owner'",
     "output_type": "error"
    }
   ]
  },
  {
   "cell_type": "markdown",
   "source": [
    "1. до значень protected атрибутів Vehicle можна доступитись ззовні, наприклад, з екземпляру класу Car, хоча конвенція закликає так не робити :)\n",
    "2. хоча до private полів є спосіб доступитись ззовні, такий доступ напряму викликає AttributeError, як, наприклад, при спробі доступитись до закритого атрибуту car.\\_\\_owner."
   ],
   "metadata": {
    "id": "zHcZ3_017cOr"
   }
  },
  {
   "cell_type": "markdown",
   "source": [
    "4. (7б). Як ви розумієте термін self? Для чого використовується метод __init __?"
   ],
   "metadata": {
    "id": "5op2m2vgMSkZ"
   }
  },
  {
   "cell_type": "markdown",
   "source": [
    "\n",
    "self використовується для посилання на об'єкт, для якого викликається метод. self дозволяє методам класу отримати доступ до атрибутів та інших методів цього ж об'єкта.\n",
    "\n",
    "Магічний метод \\_\\_init__ використовується для ініціалізації об'єкта класу. Він автоматично викликається при створенні нового екземпляру класу і дозволяє встановити початкові значення атрибутів об'єкту."
   ],
   "metadata": {
    "id": "DyiPqNRvMasx"
   }
  },
  {
   "cell_type": "markdown",
   "source": [
    "5. (9б). Створіть клас Фігура без атрибутів, з методом get_area для отримання площі фігури, що повертає 0 та __add __, який приймає self та other в якості аргументів, а повертає суму площин фігур self та other."
   ],
   "metadata": {
    "id": "-6X8EGfjMd2y"
   }
  },
  {
   "cell_type": "code",
   "source": [
    "class Shape:\n",
    "  def get_area(self):\n",
    "    return 0\n",
    "\n",
    "  def __add__(self, other):\n",
    "    return self.get_area() + other.get_area()\n",
    "\n",
    "shape1 = Shape()\n",
    "shape2 = Shape()\n",
    "\n",
    "shape1 + shape2"
   ],
   "metadata": {
    "colab": {
     "base_uri": "https://localhost:8080/"
    },
    "executionInfo": {
     "elapsed": 393,
     "status": "ok",
     "timestamp": 1709162314329,
     "user": {
      "displayName": "Kate Verkhogliad",
      "userId": "06436240930562847090"
     },
     "user_tz": -60
    },
    "id": "4rvO_wYUMaEr",
    "outputId": "49fccb6c-4a9d-4cbf-de64-06094b8c8996",
    "execution": {
     "iopub.status.busy": "2024-02-29T11:49:56.870339Z",
     "iopub.execute_input": "2024-02-29T11:49:56.870754Z",
     "iopub.status.idle": "2024-02-29T11:49:56.879007Z",
     "shell.execute_reply.started": "2024-02-29T11:49:56.870721Z",
     "shell.execute_reply": "2024-02-29T11:49:56.878018Z"
    },
    "trusted": true
   },
   "execution_count": 4,
   "outputs": [
    {
     "execution_count": 4,
     "output_type": "execute_result",
     "data": {
      "text/plain": "0"
     },
     "metadata": {}
    }
   ]
  },
  {
   "cell_type": "markdown",
   "source": [
    "6. (11б). Створіть 2 дочірніх класи від Фігури: Трикутник та Коло, які мають атрибути, необхідні для розрахунку площин. Визначте метод get_area в кожному з них так, щоби вони розраховували площу в залежності від формули для кожного типу фігури. Створіть обʼєкт класу Трикутник та обʼєкт класу Коло. Виконайте операцію суми за допомогою оператора + між ними."
   ],
   "metadata": {
    "id": "SFcKnnv5Mo_z"
   }
  },
  {
   "cell_type": "code",
   "source": [
    "import math\n",
    "\n",
    "class Triangle(Shape):\n",
    "  def __init__(self, sideA, sideB, sideC):\n",
    "    self.sideA = sideA\n",
    "    self.sideB = sideB\n",
    "    self.sideC = sideC\n",
    "\n",
    "  def get_area(self):\n",
    "    p = (self.sideA + self.sideB + self.sideC) / 2\n",
    "\n",
    "    return (p * (p - self.sideA) * (p - self.sideB) * (p - self.sideC)) ** 0.5\n",
    "\n",
    "\n",
    "class Circle(Shape):\n",
    "  def __init__(self, radius):\n",
    "    self.radius = radius\n",
    "\n",
    "  def get_area(self):\n",
    "    return self.radius ** 2 * math.pi\n",
    "\n",
    "\n",
    "triangle = Triangle(3, 4, 5)\n",
    "circle = Circle(10)\n",
    "\n",
    "triangle + circle"
   ],
   "metadata": {
    "colab": {
     "base_uri": "https://localhost:8080/"
    },
    "executionInfo": {
     "elapsed": 367,
     "status": "ok",
     "timestamp": 1709162728941,
     "user": {
      "displayName": "Kate Verkhogliad",
      "userId": "06436240930562847090"
     },
     "user_tz": -60
    },
    "id": "H3GVNr69Muf3",
    "outputId": "ddf924a6-1030-4615-ca55-0de5735d0ba6",
    "execution": {
     "iopub.status.busy": "2024-02-29T11:50:08.242398Z",
     "iopub.execute_input": "2024-02-29T11:50:08.242749Z",
     "iopub.status.idle": "2024-02-29T11:50:08.254346Z",
     "shell.execute_reply.started": "2024-02-29T11:50:08.242723Z",
     "shell.execute_reply": "2024-02-29T11:50:08.253081Z"
    },
    "trusted": true
   },
   "execution_count": 5,
   "outputs": [
    {
     "execution_count": 5,
     "output_type": "execute_result",
     "data": {
      "text/plain": "320.1592653589793"
     },
     "metadata": {}
    }
   ]
  },
  {
   "cell_type": "markdown",
   "source": [
    "7. (3б). Продемонструйте різницю між isinstance та issubclass."
   ],
   "metadata": {
    "id": "HCvR206YMvLK"
   }
  },
  {
   "cell_type": "code",
   "source": [
    "isinstance(triangle, Triangle), isinstance(triangle, Shape), issubclass(Triangle, Shape), issubclass(Shape, Triangle)"
   ],
   "metadata": {
    "colab": {
     "base_uri": "https://localhost:8080/"
    },
    "executionInfo": {
     "elapsed": 360,
     "status": "ok",
     "timestamp": 1709163208358,
     "user": {
      "displayName": "Kate Verkhogliad",
      "userId": "06436240930562847090"
     },
     "user_tz": -60
    },
    "id": "L_V1bBvDM0GN",
    "outputId": "b72a7946-f115-4308-ee1d-9711d41d3f65",
    "execution": {
     "iopub.status.busy": "2024-02-29T11:51:01.205796Z",
     "iopub.execute_input": "2024-02-29T11:51:01.206190Z",
     "iopub.status.idle": "2024-02-29T11:51:01.213626Z",
     "shell.execute_reply.started": "2024-02-29T11:51:01.206161Z",
     "shell.execute_reply": "2024-02-29T11:51:01.212682Z"
    },
    "trusted": true
   },
   "execution_count": 6,
   "outputs": [
    {
     "execution_count": 6,
     "output_type": "execute_result",
     "data": {
      "text/plain": "(True, True, True, False)"
     },
     "metadata": {}
    }
   ]
  },
  {
   "cell_type": "markdown",
   "source": [
    "isinstance - перевіряє, чи є обʼєкт екземпляром класу\n",
    "\n",
    "issubclass - перевіряє чи є один класом дочірнім класом іншого"
   ],
   "metadata": {
    "id": "Ekdd_69VEUrS"
   }
  },
  {
   "cell_type": "markdown",
   "source": [
    "8. (13б). Створіть клас BankAccount з приватними атрибутами balance та account_number. Реалізуйте методи поповнення та зняття коштів, забезпечивши належну інкапсуляцію. Підказка: використовуйте декоратори property та setter."
   ],
   "metadata": {
    "id": "jjsaBZ-iM0Qq"
   }
  },
  {
   "cell_type": "code",
   "source": [
    "class BankAccount:\n",
    "  def __init__(self, balance, account_number):\n",
    "      self.__balance = balance\n",
    "      self.__account_number = account_number\n",
    "\n",
    "  @property\n",
    "  def account_number(self):\n",
    "    return self.__account_number\n",
    "\n",
    "  @property\n",
    "  def balance(self):\n",
    "      return self.__balance\n",
    "\n",
    "  @balance.setter\n",
    "  def add_money(self, amount):\n",
    "    if (amount < 0):\n",
    "      print(f\"Amount {amount} cannot be added.\")\n",
    "      return\n",
    "\n",
    "    self.__balance += amount\n",
    "\n",
    "  @balance.setter\n",
    "  def withdraw_money(self, amount):\n",
    "    if (amount < 0 or self.__balance < amount):\n",
    "      print(f\"Amount {amount} cannot be withdrawn.\")\n",
    "      return\n",
    "\n",
    "    self.__balance -= amount\n",
    "\n",
    "\n",
    "bankAccount = BankAccount(100, \"742589837843675\")\n",
    "bankAccount.add_money = 200\n",
    "bankAccount.withdraw_money = 150\n",
    "bankAccount.withdraw_money = 500\n",
    "\n",
    "bankAccount.balance"
   ],
   "metadata": {
    "colab": {
     "base_uri": "https://localhost:8080/"
    },
    "executionInfo": {
     "elapsed": 619,
     "status": "ok",
     "timestamp": 1709165174106,
     "user": {
      "displayName": "Kate Verkhogliad",
      "userId": "06436240930562847090"
     },
     "user_tz": -60
    },
    "id": "xCvZ7lh8M7YA",
    "outputId": "b1a8a106-bb99-4828-f009-0f0bc3763bcd",
    "execution": {
     "iopub.status.busy": "2024-02-29T11:51:18.573050Z",
     "iopub.execute_input": "2024-02-29T11:51:18.573519Z",
     "iopub.status.idle": "2024-02-29T11:51:18.587853Z",
     "shell.execute_reply.started": "2024-02-29T11:51:18.573486Z",
     "shell.execute_reply": "2024-02-29T11:51:18.586477Z"
    },
    "trusted": true
   },
   "execution_count": 7,
   "outputs": [
    {
     "name": "stdout",
     "text": "Amount 500 cannot be withdrawn.\n",
     "output_type": "stream"
    },
    {
     "execution_count": 7,
     "output_type": "execute_result",
     "data": {
      "text/plain": "150"
     },
     "metadata": {}
    }
   ]
  },
  {
   "cell_type": "code",
   "source": [
    "# readability is far worse, but still came up with such implementation when playing around\n",
    "class BankAccount:\n",
    "  def __init__(self, balance, account_number):\n",
    "      self.__balance = balance\n",
    "      self.__account_number = account_number\n",
    "\n",
    "  @property\n",
    "  def account_number(self):\n",
    "    return self.__account_number\n",
    "\n",
    "  @property\n",
    "  def balance(self):\n",
    "      return self.__balance\n",
    "\n",
    "  @balance.setter\n",
    "  def balance(self, difference):\n",
    "    if (difference < 0 and self.balance < abs(difference)):\n",
    "      print(f\"Not enough money to withdraw {abs(difference)}.\")\n",
    "      return\n",
    "\n",
    "    self.__balance += difference\n",
    "\n",
    "\n",
    "bankAccount = BankAccount(100, \"742589837843675\")\n",
    "bankAccount.balance = 200\n",
    "bankAccount.balance = -150\n",
    "bankAccount.balance = -500\n",
    "\n",
    "bankAccount.balance"
   ],
   "metadata": {
    "colab": {
     "base_uri": "https://localhost:8080/"
    },
    "executionInfo": {
     "elapsed": 357,
     "status": "ok",
     "timestamp": 1709165200710,
     "user": {
      "displayName": "Kate Verkhogliad",
      "userId": "06436240930562847090"
     },
     "user_tz": -60
    },
    "id": "NZm5XMa2LkEt",
    "outputId": "fa90d7f3-9417-46ca-ea9d-d322416f80c6",
    "execution": {
     "iopub.status.busy": "2024-02-29T11:51:43.487613Z",
     "iopub.execute_input": "2024-02-29T11:51:43.488600Z",
     "iopub.status.idle": "2024-02-29T11:51:43.500780Z",
     "shell.execute_reply.started": "2024-02-29T11:51:43.488564Z",
     "shell.execute_reply": "2024-02-29T11:51:43.499170Z"
    },
    "trusted": true
   },
   "execution_count": 8,
   "outputs": [
    {
     "name": "stdout",
     "text": "Not enough money to withdraw 500.\n",
     "output_type": "stream"
    },
    {
     "execution_count": 8,
     "output_type": "execute_result",
     "data": {
      "text/plain": "150"
     },
     "metadata": {}
    }
   ]
  },
  {
   "cell_type": "markdown",
   "source": [
    "9. (11б). Створіть клас Library, який містить список об'єктів типу Book. Реалізуйте методи для додавання книги, видалення книги та відображення списку книг."
   ],
   "metadata": {
    "id": "tIzL2SJTM8ft"
   }
  },
  {
   "cell_type": "code",
   "source": [
    "class Library:\n",
    "  def __init__(self, books):\n",
    "    self.books = books\n",
    "\n",
    "  def add(self, book):\n",
    "    self.books.append(book)\n",
    "\n",
    "  def remove(self, book):\n",
    "    self.books.remove(book)\n",
    "\n",
    "  def show(self):\n",
    "    print(\"-\" * 10)\n",
    "    print(\"Awesome library:\")\n",
    "    for book in self.books:\n",
    "      print(book)\n",
    "    print(\"-\" * 10)\n",
    "\n",
    "\n",
    "class Book:\n",
    "  def __init__(self, name, author):\n",
    "    self.name = name\n",
    "    self.author = author\n",
    "\n",
    "  def __str__(self):\n",
    "    return f'\"{self.name}\" by {self.author}'\n",
    "\n",
    "  def __eq__(self, other):\n",
    "    return self.name == other.name and self.author == other.author\n",
    "\n",
    "\n",
    "library = Library([Book(\"Dorian Grey\", \"Oscar Wilde\"), Book(\"Les Miserables\", \"Victor Hugo\")])\n",
    "library.show()\n",
    "new_book = Book(\"Sherlock Holmes\", \"Arthur Conan Doyle\")\n",
    "library.add(new_book)\n",
    "library.show()\n",
    "library.remove(new_book)\n",
    "library.show()"
   ],
   "metadata": {
    "colab": {
     "base_uri": "https://localhost:8080/"
    },
    "executionInfo": {
     "elapsed": 431,
     "status": "ok",
     "timestamp": 1709166020654,
     "user": {
      "displayName": "Kate Verkhogliad",
      "userId": "06436240930562847090"
     },
     "user_tz": -60
    },
    "id": "HWxfJKLtNAUZ",
    "outputId": "21457db6-a812-44a1-9caa-cde6b72403c4",
    "execution": {
     "iopub.status.busy": "2024-02-29T11:52:25.324923Z",
     "iopub.execute_input": "2024-02-29T11:52:25.325317Z",
     "iopub.status.idle": "2024-02-29T11:52:25.337824Z",
     "shell.execute_reply.started": "2024-02-29T11:52:25.325287Z",
     "shell.execute_reply": "2024-02-29T11:52:25.336381Z"
    },
    "trusted": true
   },
   "execution_count": 9,
   "outputs": [
    {
     "name": "stdout",
     "text": "----------\nAwesome library:\n\"Dorian Grey\" by Oscar Wilde\n\"Les Miserables\" by Victor Hugo\n----------\n----------\nAwesome library:\n\"Dorian Grey\" by Oscar Wilde\n\"Les Miserables\" by Victor Hugo\n\"Sherlock Holmes\" by Arthur Conan Doyle\n----------\n----------\nAwesome library:\n\"Dorian Grey\" by Oscar Wilde\n\"Les Miserables\" by Victor Hugo\n----------\n",
     "output_type": "stream"
    }
   ]
  },
  {
   "cell_type": "markdown",
   "source": [
    "10. (13б). Створіть клас Person з атрибутами name та age. Створіть ще один клас Employee з такими атрибутами, як department та salary. Створіть клас Manager, який успадковує обидва класи Person та Employee. Продемонструйте використання множинної спадковості, створивши обʼєкт класу Manager та отримавши mro для цього класу."
   ],
   "metadata": {
    "id": "lmV8pAwwNIqu"
   }
  },
  {
   "cell_type": "code",
   "source": [
    "class Person:\n",
    "    def __init__(self, name, age):\n",
    "        self.name = name\n",
    "        self.age = age\n",
    "\n",
    "    def display_info(self):\n",
    "        print(f\"Person: {self.name}, Age: {self.age}\")\n",
    "\n",
    "\n",
    "class Employee:\n",
    "    def __init__(self, department, salary):\n",
    "        self.department = department\n",
    "        self.salary = salary\n",
    "\n",
    "    def display_info(self):\n",
    "        print(f\"Employee: Department: {self.department}, Salary: {self.salary}\")\n",
    "\n",
    "\n",
    "class Manager(Person, Employee):\n",
    "    def __init__(self, name, age, department, salary):\n",
    "        Person.__init__(self, name, age)\n",
    "        Employee.__init__(self, department, salary)\n",
    "\n",
    "    def display_info(self):\n",
    "        print(f\"Manager: {self.name}, Age: {self.age}, Department: {self.department}, Salary: {self.salary}\")\n",
    "\n",
    "\n",
    "manager = Manager(\"Taras\", age=25, department=\"Sales Department\", salary=1000)\n",
    "manager.display_info()\n",
    "\n",
    "print(\"MRO for Manager:\", Manager.mro())"
   ],
   "metadata": {
    "colab": {
     "base_uri": "https://localhost:8080/"
    },
    "executionInfo": {
     "elapsed": 450,
     "status": "ok",
     "timestamp": 1709201609151,
     "user": {
      "displayName": "Kate Verkhogliad",
      "userId": "06436240930562847090"
     },
     "user_tz": -60
    },
    "id": "R49grKlWNPeN",
    "outputId": "d2234fa0-cc76-4b9b-a01d-3c804a3803fb",
    "execution": {
     "iopub.status.busy": "2024-02-29T11:53:22.457605Z",
     "iopub.execute_input": "2024-02-29T11:53:22.457955Z",
     "iopub.status.idle": "2024-02-29T11:53:22.468995Z",
     "shell.execute_reply.started": "2024-02-29T11:53:22.457928Z",
     "shell.execute_reply": "2024-02-29T11:53:22.468175Z"
    },
    "trusted": true
   },
   "execution_count": 11,
   "outputs": [
    {
     "name": "stdout",
     "text": "Manager: Taras, Age: 25, Department: Sales Department, Salary: 1000\nMRO for Manager: [<class '__main__.Manager'>, <class '__main__.Person'>, <class '__main__.Employee'>, <class 'object'>]\n",
     "output_type": "stream"
    }
   ]
  },
  {
   "cell_type": "markdown",
   "source": [
    "# II. Iterator"
   ],
   "metadata": {
    "id": "dIJyUiNBFG8G"
   }
  },
  {
   "cell_type": "markdown",
   "source": [
    "11. (4б). Визначте рядок(str) з 4ма різними за значенням символами. Створіть ітератор на основі цього рядка. Викличте 5 разів функцію next на ітераторі, 4ри перших з них огорніть у ф-цію print()."
   ],
   "metadata": {
    "id": "13vsm0NyKIzL"
   }
  },
  {
   "cell_type": "code",
   "source": [
    "some_str = \"a0^c\"\n",
    "str_iter = iter(some_str)\n",
    "\n",
    "print(next(str_iter))\n",
    "print(next(str_iter))\n",
    "print(next(str_iter))\n",
    "print(next(str_iter))\n",
    "next(str_iter)"
   ],
   "metadata": {
    "colab": {
     "base_uri": "https://localhost:8080/",
     "height": 251
    },
    "executionInfo": {
     "elapsed": 641,
     "status": "error",
     "timestamp": 1709205710242,
     "user": {
      "displayName": "Kate Verkhogliad",
      "userId": "06436240930562847090"
     },
     "user_tz": -60
    },
    "id": "81ntabAkKuz-",
    "outputId": "66b16a4f-95db-4c5c-ce1a-1b46e5c554d2",
    "execution": {
     "iopub.status.busy": "2024-02-29T11:53:30.719281Z",
     "iopub.execute_input": "2024-02-29T11:53:30.719654Z",
     "iopub.status.idle": "2024-02-29T11:53:30.752811Z",
     "shell.execute_reply.started": "2024-02-29T11:53:30.719623Z",
     "shell.execute_reply": "2024-02-29T11:53:30.751456Z"
    },
    "trusted": true
   },
   "execution_count": 12,
   "outputs": [
    {
     "name": "stdout",
     "text": "a\n0\n^\nc\n",
     "output_type": "stream"
    },
    {
     "traceback": [
      "\u001B[0;31m---------------------------------------------------------------------------\u001B[0m",
      "\u001B[0;31mStopIteration\u001B[0m                             Traceback (most recent call last)",
      "Cell \u001B[0;32mIn[12], line 8\u001B[0m\n\u001B[1;32m      6\u001B[0m \u001B[38;5;28mprint\u001B[39m(\u001B[38;5;28mnext\u001B[39m(str_iter))\n\u001B[1;32m      7\u001B[0m \u001B[38;5;28mprint\u001B[39m(\u001B[38;5;28mnext\u001B[39m(str_iter))\n\u001B[0;32m----> 8\u001B[0m \u001B[38;5;28;43mnext\u001B[39;49m\u001B[43m(\u001B[49m\u001B[43mstr_iter\u001B[49m\u001B[43m)\u001B[49m\n",
      "\u001B[0;31mStopIteration\u001B[0m: "
     ],
     "ename": "StopIteration",
     "evalue": "",
     "output_type": "error"
    }
   ]
  },
  {
   "cell_type": "markdown",
   "source": [
    "А що якщо викликати цю ж функцію на рядку?"
   ],
   "metadata": {
    "id": "aekWHGXOLRsO"
   }
  },
  {
   "cell_type": "code",
   "source": [
    "next(some_str)"
   ],
   "metadata": {
    "colab": {
     "base_uri": "https://localhost:8080/",
     "height": 144
    },
    "executionInfo": {
     "elapsed": 246,
     "status": "error",
     "timestamp": 1709203876464,
     "user": {
      "displayName": "Kate Verkhogliad",
      "userId": "06436240930562847090"
     },
     "user_tz": -60
    },
    "id": "mxATGsErLV1i",
    "outputId": "597491d3-7c3e-4367-9f7f-7de32092c4aa",
    "execution": {
     "iopub.status.busy": "2024-02-29T11:54:13.134530Z",
     "iopub.execute_input": "2024-02-29T11:54:13.134898Z",
     "iopub.status.idle": "2024-02-29T11:54:13.162389Z",
     "shell.execute_reply.started": "2024-02-29T11:54:13.134869Z",
     "shell.execute_reply": "2024-02-29T11:54:13.160941Z"
    },
    "trusted": true
   },
   "execution_count": 13,
   "outputs": [
    {
     "traceback": [
      "\u001B[0;31m---------------------------------------------------------------------------\u001B[0m",
      "\u001B[0;31mTypeError\u001B[0m                                 Traceback (most recent call last)",
      "Cell \u001B[0;32mIn[13], line 1\u001B[0m\n\u001B[0;32m----> 1\u001B[0m \u001B[38;5;28;43mnext\u001B[39;49m\u001B[43m(\u001B[49m\u001B[43msome_str\u001B[49m\u001B[43m)\u001B[49m\n",
      "\u001B[0;31mTypeError\u001B[0m: 'str' object is not an iterator"
     ],
     "ename": "TypeError",
     "evalue": "'str' object is not an iterator",
     "output_type": "error"
    }
   ]
  },
  {
   "cell_type": "markdown",
   "source": [
    " 12. (5б). Опишіть своїми словами в одному реченні, як ви розумієте різницю між ітерабельними обʼєктами та ітераторами (можна на прикладі)."
   ],
   "metadata": {
    "id": "XwtMEopwJ4pH"
   }
  },
  {
   "cell_type": "markdown",
   "source": [
    "\n",
    "Ітерабельні об'єкти - це контейнери, які мають реалізацію методу iter(), що повертає деякий ітератор, а ітератор - це об'єкт, який безпосередньо втілює ітерацію і зберігає свій стан, щоб дозволяти послідовний доступ до елементів контейнера за допомогою реалізації протоколу iterator, тобто двох методів: \\_\\_iter__, \\_\\_next__."
   ],
   "metadata": {
    "id": "-sHrODc3KFn8"
   }
  },
  {
   "cell_type": "markdown",
   "source": [
    "13. (11б). Створіть клас, що має визначений Iterator Protocol та при кожному виклику next повертає літери англійської абетки, поки вони не вичерпаються."
   ],
   "metadata": {
    "id": "E9qJWmNbK8Gl"
   }
  },
  {
   "cell_type": "code",
   "source": [
    "class EnglishAlphabet:\n",
    "  def __iter__(self):\n",
    "    self.__current_letter = 'a'\n",
    "    return self\n",
    "\n",
    "  def __next__(self):\n",
    "    if ord(self.__current_letter) == ord('z') + 1:\n",
    "      raise StopIteration\n",
    "\n",
    "    current_letter = self.__current_letter\n",
    "    current_letter_ord = ord(self.__current_letter)\n",
    "    self.__current_letter = chr(current_letter_ord + 1)\n",
    "    return current_letter\n",
    "\n",
    "\n",
    "alphabet_iterator = iter(EnglishAlphabet())\n",
    "# I iterate until a symbol greater than 'z' to demonstrate how StopIteration works\n",
    "for _ in range(ord('a'), ord('z') + 2):\n",
    "  print(next(alphabet_iterator))"
   ],
   "metadata": {
    "colab": {
     "background_save": true,
     "output_embedded_package_id": "1VCRSOVUgU4EJRuN8-jz8EW2RWNArfFEL"
    },
    "id": "cqx-g_RsLo6I",
    "outputId": "0e570674-f80c-43a6-8682-66d12f6e5cbe",
    "execution": {
     "iopub.status.busy": "2024-02-29T11:55:26.615740Z",
     "iopub.execute_input": "2024-02-29T11:55:26.616153Z",
     "iopub.status.idle": "2024-02-29T11:55:26.665202Z",
     "shell.execute_reply.started": "2024-02-29T11:55:26.616110Z",
     "shell.execute_reply": "2024-02-29T11:55:26.663623Z"
    },
    "trusted": true
   },
   "execution_count": 15,
   "outputs": [
    {
     "name": "stdout",
     "text": "a\nb\nc\nd\ne\nf\ng\nh\ni\nj\nk\nl\nm\nn\no\np\nq\nr\ns\nt\nu\nv\nw\nx\ny\nz\n",
     "output_type": "stream"
    },
    {
     "traceback": [
      "\u001B[0;31m---------------------------------------------------------------------------\u001B[0m",
      "\u001B[0;31mStopIteration\u001B[0m                             Traceback (most recent call last)",
      "Cell \u001B[0;32mIn[15], line 19\u001B[0m\n\u001B[1;32m     17\u001B[0m \u001B[38;5;66;03m# I iterate until a symbol greater than 'z' to demonstrate how StopIteration works\u001B[39;00m\n\u001B[1;32m     18\u001B[0m \u001B[38;5;28;01mfor\u001B[39;00m _ \u001B[38;5;129;01min\u001B[39;00m \u001B[38;5;28mrange\u001B[39m(\u001B[38;5;28mord\u001B[39m(\u001B[38;5;124m'\u001B[39m\u001B[38;5;124ma\u001B[39m\u001B[38;5;124m'\u001B[39m), \u001B[38;5;28mord\u001B[39m(\u001B[38;5;124m'\u001B[39m\u001B[38;5;124mz\u001B[39m\u001B[38;5;124m'\u001B[39m) \u001B[38;5;241m+\u001B[39m \u001B[38;5;241m2\u001B[39m):\n\u001B[0;32m---> 19\u001B[0m   \u001B[38;5;28mprint\u001B[39m(\u001B[38;5;28;43mnext\u001B[39;49m\u001B[43m(\u001B[49m\u001B[43malphabet_iterator\u001B[49m\u001B[43m)\u001B[49m)\n",
      "Cell \u001B[0;32mIn[15], line 8\u001B[0m, in \u001B[0;36mEnglishAlphabet.__next__\u001B[0;34m(self)\u001B[0m\n\u001B[1;32m      6\u001B[0m \u001B[38;5;28;01mdef\u001B[39;00m \u001B[38;5;21m__next__\u001B[39m(\u001B[38;5;28mself\u001B[39m):\n\u001B[1;32m      7\u001B[0m   \u001B[38;5;28;01mif\u001B[39;00m \u001B[38;5;28mord\u001B[39m(\u001B[38;5;28mself\u001B[39m\u001B[38;5;241m.\u001B[39m__current_letter) \u001B[38;5;241m==\u001B[39m \u001B[38;5;28mord\u001B[39m(\u001B[38;5;124m'\u001B[39m\u001B[38;5;124mz\u001B[39m\u001B[38;5;124m'\u001B[39m) \u001B[38;5;241m+\u001B[39m \u001B[38;5;241m1\u001B[39m:\n\u001B[0;32m----> 8\u001B[0m     \u001B[38;5;28;01mraise\u001B[39;00m \u001B[38;5;167;01mStopIteration\u001B[39;00m\n\u001B[1;32m     10\u001B[0m   current_letter \u001B[38;5;241m=\u001B[39m \u001B[38;5;28mself\u001B[39m\u001B[38;5;241m.\u001B[39m__current_letter\n\u001B[1;32m     11\u001B[0m   current_letter_ord \u001B[38;5;241m=\u001B[39m \u001B[38;5;28mord\u001B[39m(\u001B[38;5;28mself\u001B[39m\u001B[38;5;241m.\u001B[39m__current_letter)\n",
      "\u001B[0;31mStopIteration\u001B[0m: "
     ],
     "ename": "StopIteration",
     "evalue": "",
     "output_type": "error"
    }
   ]
  },
  {
   "cell_type": "markdown",
   "source": [
    "# Вітаю! Ви велика(ий) молодець, що впоралась(вся). Похваліть себе та побалуйте чимось приємним. Я Вами пишаюся."
   ],
   "metadata": {
    "id": "Z3E3S_s1Fv7-"
   }
  }
 ]
}
