{
  "nbformat": 4,
  "nbformat_minor": 0,
  "metadata": {
    "colab": {
      "provenance": []
    },
    "kernelspec": {
      "name": "python3",
      "display_name": "Python 3"
    },
    "language_info": {
      "name": "python"
    }
  },
  "cells": [
    {
      "cell_type": "markdown",
      "source": [
        "# I. Functions. Arguments."
      ],
      "metadata": {
        "id": "kXpppdVm6wFy"
      }
    },
    {
      "cell_type": "markdown",
      "source": [
        "1. (5б) Назвіть основні 4 смислові  частини, з яких складається функція."
      ],
      "metadata": {
        "id": "u_krJdlbAkVz"
      }
    },
    {
      "cell_type": "markdown",
      "source": [
        "\n",
        "1. Ім'я функції - це унікальне ім'я, яке використовується для визначення функції\n",
        "2. Параметри (аргументи) - це значення, які передаються функції при її виклику. Функція може приймати нуль або більше параметрів.\n",
        "3. Тіло функції - це блок коду, який визначає, що робить функція.\n",
        "4. Значення, що повертається (return) - це значення, яке функція повертає після завершення своєї роботи."
      ],
      "metadata": {
        "id": "KKTrTXmHAptb"
      }
    },
    {
      "cell_type": "markdown",
      "source": [
        "2. (3б) Визначте функцію, що приймає 2 аргументи та повертає результат ділення 1го аргумента на інший."
      ],
      "metadata": {
        "id": "ORM4PqJQAtDM"
      }
    },
    {
      "cell_type": "code",
      "execution_count": 3,
      "metadata": {
        "id": "EuDx-z8M6sLo",
        "colab": {
          "base_uri": "https://localhost:8080/"
        },
        "outputId": "87341fb2-13ad-48f3-fde4-49656232dea8"
      },
      "outputs": [
        {
          "output_type": "stream",
          "name": "stdout",
          "text": [
            "Beginning of divide operation\n",
            "End of divide operation\n"
          ]
        },
        {
          "output_type": "execute_result",
          "data": {
            "text/plain": [
              "1.5"
            ]
          },
          "metadata": {},
          "execution_count": 3
        }
      ],
      "source": [
        "@function_info\n",
        "def divide(divisor, divident):\n",
        "  if divident == 0:\n",
        "    return None\n",
        "\n",
        "  return divisor / divident\n",
        "\n",
        "\n",
        "divide(3, 2)"
      ]
    },
    {
      "cell_type": "markdown",
      "source": [
        "3. (2б) Викличте вище визначену функцію, де другий аргумент дорівнює 0."
      ],
      "metadata": {
        "id": "5joQGQ-SAyMe"
      }
    },
    {
      "cell_type": "code",
      "source": [
        "print(divide(3, 0))"
      ],
      "metadata": {
        "id": "V5cBV1LOA3d-",
        "colab": {
          "base_uri": "https://localhost:8080/"
        },
        "outputId": "6ce6f764-8bb5-4529-fdd3-8d6d23c171a0"
      },
      "execution_count": 4,
      "outputs": [
        {
          "output_type": "stream",
          "name": "stdout",
          "text": [
            "Beginning of divide operation\n",
            "End of divide operation\n",
            "None\n"
          ]
        }
      ]
    },
    {
      "cell_type": "markdown",
      "source": [
        "4. (4б) Перевизначте функцію так, щоби у випадку ділення на 0 функція повертала None, а в решті випадків - результат розрахунків."
      ],
      "metadata": {
        "id": "QyimWgW8A43-"
      }
    },
    {
      "cell_type": "code",
      "source": [],
      "metadata": {
        "id": "7VIODtSjA8Ek"
      },
      "execution_count": null,
      "outputs": []
    },
    {
      "cell_type": "markdown",
      "source": [
        "можна це не переписувати? я одразу нормальне ділення написала 😀"
      ],
      "metadata": {
        "id": "hxMCOLN4UQ6i"
      }
    },
    {
      "cell_type": "markdown",
      "source": [
        "5. (5б) Визначте функцію, що віднімає одне число від іншого (підказка: це буде 2 аргументи функції). При чому, якщо не визначити, скільки саме має бути віднято від числа, за замовчуванням має відніматися 1. Викличте функцію, передаючи тільки один аргумент."
      ],
      "metadata": {
        "id": "Y8mN0GfkA81l"
      }
    },
    {
      "cell_type": "code",
      "source": [
        "def subtract(left_operand, right_operand=1):\n",
        "  return left_operand - right_operand\n",
        "\n",
        "\n",
        "subtract(5)"
      ],
      "metadata": {
        "id": "vg1kxkdgBA50",
        "colab": {
          "base_uri": "https://localhost:8080/"
        },
        "outputId": "315ab02e-b8fa-4086-fa71-02877a4ff7fb"
      },
      "execution_count": 5,
      "outputs": [
        {
          "output_type": "execute_result",
          "data": {
            "text/plain": [
              "4"
            ]
          },
          "metadata": {},
          "execution_count": 5
        }
      ]
    },
    {
      "cell_type": "markdown",
      "source": [
        "6. (7б) Визначте функцію, яка приймає iterable (ітерабельний обʼєкт, напр. список), що складається з 7ми рядкових значень - назв погодних умов (напр. \"sunny\") за кожен день у тижні. Повертає функція словник, де ключами є рядки з погодними умовами, а значеннями - кількість разів, скільки дана погода була протягом тижня (напр. {'sunny': 1, ...}). Викличте цю функцію та виведіть результат її роботи на екран."
      ],
      "metadata": {
        "id": "D3mwQGNOBBs4"
      }
    },
    {
      "cell_type": "code",
      "source": [
        "def count_entries(entries_list):\n",
        "  resulting_dict = {}\n",
        "\n",
        "  for entry in entries_list:\n",
        "    if entry in resulting_dict.keys():\n",
        "      resulting_dict[entry] += 1\n",
        "    else:\n",
        "      resulting_dict[entry] = 1\n",
        "\n",
        "  return resulting_dict\n",
        "\n",
        "\n",
        "weather = [\"sunny\", \"rainy\", \"sunny\", \"cloudy\", \"rainy\", \"sunny\", \"windy\"]\n",
        "\n",
        "count_entries(weather)"
      ],
      "metadata": {
        "id": "OsWm-hKcBFyn",
        "colab": {
          "base_uri": "https://localhost:8080/"
        },
        "outputId": "6b40077e-96e8-441b-ebb6-d8d53cda95e2"
      },
      "execution_count": 6,
      "outputs": [
        {
          "output_type": "execute_result",
          "data": {
            "text/plain": [
              "{'sunny': 3, 'rainy': 2, 'cloudy': 1, 'windy': 1}"
            ]
          },
          "metadata": {},
          "execution_count": 6
        }
      ]
    },
    {
      "cell_type": "markdown",
      "source": [
        "7. (15б) Напишіть програму, яка б шукала необхідне число у впорядкованому списку цілочислених значень, де\n",
        "число має вводитись з консолі.\n",
        "власне алгоритм пошуку винесений в окрему функцію, яка повертає булеве значення (знайдено число - True, не знайдено - False).\n",
        "в залежності від результату функції, виведіть на екран повідомлення про успішний або ж неуспішний пошук.\n",
        "Зауваження: використовувати оператор in заборонено."
      ],
      "metadata": {
        "id": "RMiCcdOsBKQT"
      }
    },
    {
      "cell_type": "code",
      "source": [
        "import random\n",
        "\n",
        "\n",
        "def contains(ordered_list, searched_element):\n",
        "  lo = 0\n",
        "  hi = len(ordered_list) - 1\n",
        "\n",
        "  while(lo <= hi):\n",
        "    m = (lo + hi) // 2\n",
        "\n",
        "    if searched_element > ordered_list[m]:\n",
        "      lo = m + 1\n",
        "    elif searched_element < ordered_list[m]:\n",
        "      hi = m - 1\n",
        "    else:\n",
        "      return True\n",
        "\n",
        "  return False\n",
        "\n",
        "\n",
        "def get_queried_number_from_user():\n",
        "  return input(\"Number to be found (press 'q' to abort): \")\n",
        "\n",
        "\n",
        "def random_ordered_list():\n",
        "  random_ordered_numbers = list(set([random.randint(1, 100) for _ in range(20)]))\n",
        "  random_ordered_numbers.sort()\n",
        "  return random_ordered_numbers\n",
        "\n",
        "\n",
        "random_ordered_numbers = random_ordered_list()\n",
        "print(f\"{random_ordered_numbers} \\n\")\n",
        "user_query = get_queried_number_from_user()\n",
        "\n",
        "while user_query != \"q\":\n",
        "  list_contains_query = contains(random_ordered_numbers, int(user_query))\n",
        "\n",
        "  print(f\"This list {'contains' if list_contains_query else 'does NOT contain'} {user_query}. \\n\")\n",
        "\n",
        "  user_query = input(\"Number to be found (press 'q' to abort): \")"
      ],
      "metadata": {
        "id": "UNCZg65OBOy-",
        "colab": {
          "base_uri": "https://localhost:8080/"
        },
        "outputId": "3a242cb5-2077-45ad-992b-0d1682f1aa17"
      },
      "execution_count": 8,
      "outputs": [
        {
          "name": "stdout",
          "output_type": "stream",
          "text": [
            "[6, 9, 29, 40, 41, 48, 50, 56, 60, 68, 70, 77, 81, 87, 96, 97, 99] \n",
            "\n",
            "Number to be found (press 'q' to abort): 6\n",
            "This list contains 6. \n",
            "\n",
            "Number to be found (press 'q' to abort): 99\n",
            "This list contains 99. \n",
            "\n",
            "Number to be found (press 'q' to abort): 68\n",
            "This list contains 68. \n",
            "\n",
            "Number to be found (press 'q' to abort): 53\n",
            "This list does NOT contain 53. \n",
            "\n",
            "Number to be found (press 'q' to abort): 10\n",
            "This list does NOT contain 10. \n",
            "\n",
            "Number to be found (press 'q' to abort): q\n"
          ]
        }
      ]
    },
    {
      "cell_type": "markdown",
      "source": [
        "# II. Lambda functions."
      ],
      "metadata": {
        "id": "Ae1n_OvLBTsy"
      }
    },
    {
      "cell_type": "markdown",
      "source": [
        "8. (4б) В яких випадках варто використовувати лямбда-функції?"
      ],
      "metadata": {
        "id": "xaD_wSlaCWen"
      }
    },
    {
      "cell_type": "markdown",
      "source": [
        "1. Коли неважлива назва функції\n",
        "2. Коли функція не буде перевикористана\n",
        "3. Коли функція однорядкова"
      ],
      "metadata": {
        "id": "42MB6OoLCakR"
      }
    },
    {
      "cell_type": "markdown",
      "source": [
        "9. (9б) Визначте список з рядками. Після цього визначте анонімну функцію для отримання першого символу у верхньому регістрі для кожного рядка списку.\n",
        "Підказка: використовуйте анонімну функцію в якості агрумента до вбудованої ф-ції, яка створена для застосування функцій над iterable обʼєктами. Результат виведіть на екран у вигляді кортежу."
      ],
      "metadata": {
        "id": "USrzrk7GCedk"
      }
    },
    {
      "cell_type": "code",
      "source": [
        "strings_list = ['hello', 'world', '!']\n",
        "\n",
        "capital_first_letters = map(lambda word: word.capitalize()[0], strings_list)\n",
        "\n",
        "list(capital_first_letters)"
      ],
      "metadata": {
        "id": "M8QWUsMlCjWH",
        "colab": {
          "base_uri": "https://localhost:8080/"
        },
        "outputId": "c62c28a2-4102-44ad-e0ee-8a7c5fb50e73"
      },
      "execution_count": 9,
      "outputs": [
        {
          "output_type": "execute_result",
          "data": {
            "text/plain": [
              "['H', 'W', '!']"
            ]
          },
          "metadata": {},
          "execution_count": 9
        }
      ]
    },
    {
      "cell_type": "markdown",
      "source": [
        "10. (10б) Визначте список з числовими значеннями (і цілими, і з рухомою комою). а) Відфільтруйте всі числа, які діляться націло на 3 за допомогою вбудованої функції та анонімної функції в якості аргумента). Збережіть результат у змінній, не приводяти явно до будь-якого типу. б) Використовуючи результат на кроці 12.а у якості аргументу, та за допомогою лямбда-функції в якості іншого аргументу до вбудованої функції, додайте до кожного елементу число 1 та опісля зведіть у квадрат. Остаточний результат приведіть явно до списку та виведіть на екран."
      ],
      "metadata": {
        "id": "9fyUhXOoCtGp"
      }
    },
    {
      "cell_type": "code",
      "source": [
        "numbers_list = [0, 0.23, 5, 2, 6.96, 7, 9]\n",
        "\n",
        "divide_by_three = filter(lambda num: num % 3 == 0, numbers_list)\n",
        "plus_one_and_squared = map(lambda num: (num + 1) ** 2, divide_by_three)\n",
        "\n",
        "list(plus_one_and_squared)"
      ],
      "metadata": {
        "id": "exEx2_okCsql",
        "colab": {
          "base_uri": "https://localhost:8080/"
        },
        "outputId": "9ea5b169-523f-4346-a3d0-4ccad30dcc5a"
      },
      "execution_count": 10,
      "outputs": [
        {
          "output_type": "execute_result",
          "data": {
            "text/plain": [
              "[1, 100]"
            ]
          },
          "metadata": {},
          "execution_count": 10
        }
      ]
    },
    {
      "cell_type": "markdown",
      "source": [
        "# III. Decorators."
      ],
      "metadata": {
        "id": "o_x8cG_WC7jp"
      }
    },
    {
      "cell_type": "markdown",
      "source": [
        "11. (11б) Визначте декоратор, який би виводив у консоль повідомлення про початок роботи і назву функції (напр. my_function._ _ name _ _), а після відпрацювання функції - повідомлення про закінчення роботи і назву функції, що задекорована."
      ],
      "metadata": {
        "id": "mhxS4-mfC8LQ"
      }
    },
    {
      "cell_type": "code",
      "source": [
        "def function_info(func):\n",
        "  def wrapper(*args, **kwargs):\n",
        "    print(f\"Beginning of {func.__name__} operation\")\n",
        "    res = func(*args, **kwargs)\n",
        "    print(f\"End of {func.__name__} operation\")\n",
        "\n",
        "    return res\n",
        "\n",
        "  return wrapper"
      ],
      "metadata": {
        "id": "srd1ygWjDGhO"
      },
      "execution_count": 2,
      "outputs": []
    },
    {
      "cell_type": "markdown",
      "source": [
        "12. (4б) Задекоруйте двома різними способами функції з завдання 4 та 5 декоратором із завдання 11. (**УВАГА**: не декоруйте функції двічі!)."
      ],
      "metadata": {
        "id": "rxGZwVBiDph3"
      }
    },
    {
      "cell_type": "code",
      "source": [
        "subtract_with_info = function_info(subtract)"
      ],
      "metadata": {
        "id": "06lj7eq_DwZe"
      },
      "execution_count": 11,
      "outputs": []
    },
    {
      "cell_type": "markdown",
      "source": [
        "13. (2б) Викличте одну з задекорованих функцій і виведіть її результат на екран."
      ],
      "metadata": {
        "id": "P0ep1urBDzf-"
      }
    },
    {
      "cell_type": "code",
      "source": [
        "subtract_with_info(2, 3)"
      ],
      "metadata": {
        "id": "1QvTw0ctD0S3",
        "colab": {
          "base_uri": "https://localhost:8080/"
        },
        "outputId": "5ab6a747-1978-4b93-b3d5-4c1985520641"
      },
      "execution_count": 12,
      "outputs": [
        {
          "output_type": "stream",
          "name": "stdout",
          "text": [
            "Beginning of subtract operation\n",
            "End of subtract operation\n"
          ]
        },
        {
          "output_type": "execute_result",
          "data": {
            "text/plain": [
              "-1"
            ]
          },
          "metadata": {},
          "execution_count": 12
        }
      ]
    },
    {
      "cell_type": "markdown",
      "source": [
        "# IV. Recursion."
      ],
      "metadata": {
        "id": "poECCpuoD2S9"
      }
    },
    {
      "cell_type": "markdown",
      "source": [
        "14. (4б) Назвіть дві частини функції, які є обовʼязковими для того, щоб називати її рекурсивною."
      ],
      "metadata": {
        "id": "DqkURfdsD7MY"
      }
    },
    {
      "cell_type": "markdown",
      "source": [
        "1. Виклик функцією самої себе\n",
        "2. Умова виходу з рекурсії (базовий випадок)"
      ],
      "metadata": {
        "id": "HYW6ttIeIQIU"
      }
    },
    {
      "cell_type": "markdown",
      "source": [
        "15. (15б) Визначте функцію, яка рекурсивно реалізовує пошук числа у послідовності Фібоначчі за її індексом (нумерація починається з нуля). Наприклад, потрібно знайти перше число у послідовності, тоді функція прийматиме 0 у якості аргумента і повертатиме 1, якщо ж знаходити третє число (індекс 2) послідовності, то функція повертатиме 2, якщо ж знаходити десяте число (індекс 9), то функція повертатиме 55."
      ],
      "metadata": {
        "id": "WYVt20UmEA35"
      }
    },
    {
      "cell_type": "code",
      "source": [
        "def fibonacci(index):\n",
        "  if index == 0: return 1\n",
        "  if index == 1: return 1\n",
        "\n",
        "  return fibonacci(index - 1) + fibonacci(index - 2)\n",
        "\n",
        "\n",
        "fibonacci(0), fibonacci(1), fibonacci(9)"
      ],
      "metadata": {
        "id": "xIMhp05AIpV_",
        "colab": {
          "base_uri": "https://localhost:8080/"
        },
        "outputId": "4abd796b-371a-48e0-9b87-c1391fd510ad"
      },
      "execution_count": 13,
      "outputs": [
        {
          "output_type": "execute_result",
          "data": {
            "text/plain": [
              "(1, 1, 55)"
            ]
          },
          "metadata": {},
          "execution_count": 13
        }
      ]
    },
    {
      "cell_type": "markdown",
      "source": [
        "# Вітаю! Ви велика(ий) молодець, що впоралась(вся). Похваліть себе та побалуйте чимось приємним. Я Вами пишаюся."
      ],
      "metadata": {
        "id": "ytXC8n_4Ip0W"
      }
    }
  ]
}